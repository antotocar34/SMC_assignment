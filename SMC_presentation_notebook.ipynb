{
 "cells": [
  {
   "cell_type": "code",
   "execution_count": 1,
   "id": "e354643a",
   "metadata": {},
   "outputs": [],
   "source": [
    "import numpy as np\n",
    "import json\n",
    "import pandas as pd\n",
    "import matplotlib.pyplot as plt\n",
    "import matplotlib.gridspec as gridspec\n",
    "import matplotlib\n",
    "import seaborn as sns\n",
    "from tqdm import tqdm\n",
    "\n",
    "from latin_squares import *"
   ]
  },
  {
   "cell_type": "code",
   "execution_count": 7,
   "id": "01a2ec91",
   "metadata": {},
   "outputs": [
    {
     "name": "stdout",
     "output_type": "stream",
     "text": [
      "Examples of iterations results\n",
      "\n",
      "------------------------------\n",
      "\n",
      "d = 2\n",
      "\n",
      "---SMC started---\n",
      "λ_max = 35.45506712678485\n",
      "\n",
      "δ_0: 35.45506712678485\n",
      "Iteration 0 done!\n",
      "λ_0 : 35.45506712678485\n",
      "---SMC finished---\n",
      "\n",
      "\n",
      "Estimated number of latin matrices: 2.084084084084084\n",
      "\n",
      "d = 3\n",
      "\n",
      "---SMC started---\n",
      "λ_max = 31.46608308022057\n",
      "\n",
      "δ_0: 0.3373042131222894\n",
      "Iteration 0 done!\n",
      "λ_0 : 0.3373042131222894\n",
      "Doing Metropolis Resampling...\n",
      "Resampling done!\n",
      "δ_1: 0.43308436391660177\n",
      "Iteration 1 done!\n",
      "λ_1 : 0.7703885770388912\n",
      "Doing Metropolis Resampling...\n",
      "Resampling done!\n",
      "δ_2: 30.69569450318168\n",
      "Iteration 2 done!\n",
      "λ_2 : 31.46608308022057\n",
      "---SMC finished---\n",
      "\n",
      "\n",
      "Estimated number of latin matrices: 11.805550013233756\n",
      "\n"
     ]
    }
   ],
   "source": [
    "n_sim = 50\n",
    "d_range = range(2, 4)\n",
    "sim_results = [None] * len(d_range) * n_sim\n",
    "\n",
    "for d in d_range:\n",
    "    for sim in range(n_sim):\n",
    "        verbose = False\n",
    "        if sim == 0:\n",
    "            if d == 2:\n",
    "                print(f'Examples of iterations results\\n')\n",
    "                print('------------------------------\\n')\n",
    "            print(f'd = {d}\\n')\n",
    "            verbose = True\n",
    "        kernel_steps = 300\n",
    "        particle_number = int(2e5 / kernel_steps)\n",
    "        smc = LatinSquareSMC(\n",
    "                d=d,\n",
    "                kernel_steps=kernel_steps,\n",
    "                particle_number=particle_number,\n",
    "                verbose = verbose\n",
    "                )\n",
    "        smc.run()\n",
    "        logLt = smc.logLt\n",
    "        num_latin = math.factorial(d)**d * np.exp(smc.logLt)\n",
    "        sim_results[(d - d_range[0]) * n_sim + sim] = {'d': d, 'kernel_steps': kernel_steps, \n",
    "                                                       'N_particles': particle_number, 'logLt': logLt, \n",
    "                                                       'n_latin': num_latin}\n",
    "        if sim == 0:\n",
    "            print(f'\\nEstimated number of latin matrices: {num_latin}\\n')"
   ]
  },
  {
   "cell_type": "markdown",
   "id": "14095f61",
   "metadata": {},
   "source": [
    "**Example for d = 4**"
   ]
  },
  {
   "cell_type": "code",
   "execution_count": 8,
   "id": "f7b2a083",
   "metadata": {},
   "outputs": [],
   "source": [
    "with open('sim_results.json', 'w') as file:\n",
    "    json.dump(obj=sim_results, fp=file)"
   ]
  },
  {
   "cell_type": "code",
   "execution_count": 13,
   "id": "0a9a415f",
   "metadata": {},
   "outputs": [
    {
     "name": "stdout",
     "output_type": "stream",
     "text": [
      "---SMC started---\n",
      "λ_max = 24.129146166512953\n",
      "\n",
      "δ_0: 0.24878035911626392\n",
      "Iteration 0 done!\n",
      "λ_0 : 0.24878035911626392\n",
      "Doing Metropolis Resampling...\n",
      "Resampling done!\n",
      "δ_1: 0.30854070324760546\n",
      "Iteration 1 done!\n",
      "λ_1 : 0.5573210623638694\n",
      "Doing Metropolis Resampling...\n",
      "Resampling done!\n",
      "δ_2: 0.3133930489275949\n",
      "Iteration 2 done!\n",
      "λ_2 : 0.8707141112914643\n",
      "Doing Metropolis Resampling...\n",
      "Resampling done!\n",
      "δ_3: 23.25843205522149\n",
      "Iteration 3 done!\n",
      "λ_3 : 24.129146166512953\n",
      "---SMC finished---\n",
      "\n",
      "\n",
      "Estimated log of the normalizing constant: -6.351781863948482\n",
      "\n",
      "\n",
      "Estimated number of latin matrices: 578.497055910827\n",
      "\n"
     ]
    }
   ],
   "source": [
    "d = 4\n",
    "kernel_steps = 1000\n",
    "particle_number = int(2e5 / kernel_steps)\n",
    "smc = LatinSquareSMC(d=4,\n",
    "                     kernel_steps=kernel_steps,\n",
    "                     particle_number=particle_number,\n",
    "                     verbose = True\n",
    "                     )\n",
    "smc.run()\n",
    "logLt = smc.logLt\n",
    "num_latin = math.factorial(4)**4 * np.exp(smc.logLt)\n",
    "print(f'\\nEstimated log of the normalizing constant: {logLt}\\n')\n",
    "print(f\"\\nEstimated number of latin squares for d = {d}: {math.factorial(d)**d * np.exp(smc.logLt)}\")"
   ]
  },
  {
   "cell_type": "code",
   "execution_count": 2,
   "id": "7fd5488c",
   "metadata": {},
   "outputs": [],
   "source": [
    "with open('sim_results.json', 'r') as file:\n",
    "    sim_results = json.load(file)"
   ]
  },
  {
   "cell_type": "code",
   "execution_count": 4,
   "id": "81a04129",
   "metadata": {},
   "outputs": [],
   "source": [
    "sim_results_df = pd.DataFrame(sim_results)"
   ]
  },
  {
   "cell_type": "code",
   "execution_count": 19,
   "id": "578d34bd",
   "metadata": {
    "scrolled": true
   },
   "outputs": [
    {
     "data": {
      "image/png": "[encoded data removed]",
      "text/plain": [
       "<Figure size 432x288 with 1 Axes>"
      ]
     },
     "metadata": {
      "needs_background": "light"
     },
     "output_type": "display_data"
    }
   ],
   "source": [
    "sns.boxplot(x='d', y='n_latin', data=sim_results_df)\n",
    "plt.ylabel('Estimmated Number of Latin Squares')\n",
    "plt.tight_layout()"
   ]
  }
 ],
 "metadata": {
  "kernelspec": {
   "display_name": "Python 3 (ipykernel)",
   "language": "python",
   "name": "python3"
  },
  "language_info": {
   "codemirror_mode": {
    "name": "ipython",
    "version": 3
   },
   "file_extension": ".py",
   "mimetype": "text/x-python",
   "name": "python",
   "nbconvert_exporter": "python",
   "pygments_lexer": "ipython3",
   "version": "3.9.0"
  }
 },
 "nbformat": 4,
 "nbformat_minor": 5
}
